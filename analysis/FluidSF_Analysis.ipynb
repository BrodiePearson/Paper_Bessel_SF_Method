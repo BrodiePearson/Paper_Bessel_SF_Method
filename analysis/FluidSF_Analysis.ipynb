{
 "cells": [
  {
   "cell_type": "code",
   "execution_count": 1,
   "id": "05f75ee0",
   "metadata": {},
   "outputs": [],
   "source": [
    "import fluidsf\n",
    "import h5py\n",
    "import numpy as np"
   ]
  },
  {
   "cell_type": "code",
   "execution_count": 2,
   "id": "6fe2f11f",
   "metadata": {},
   "outputs": [
    {
     "name": "stdout",
     "output_type": "stream",
     "text": [
      "CPU times: user 1.76 ms, sys: 1.2 ms, total: 2.96 ms\n",
      "Wall time: 2.15 ms\n"
     ]
    }
   ],
   "source": [
    "%%time\n",
    "# pathname = '../simulations/output/copied_data/2D_Equilibrated/'\n",
    "# filename = 'Anisotropic2D_n_2048_drag_0.04_order_-2_visc_1.0e-21_order_8_kf_100.0_F_1.0e-5_betay_10.0_betax_0.0_3000.mat'\n",
    "pathname = '../simulations/output/copied_data/SurfaceQG_n_512_visc_1.0e-17_order_8_hypovisc_0.005_order_-2_kf_7.0_F_1.0e-5_endtime_30000.0_beta_0.5/'\n",
    "filename = 'SurfaceQG_n_512_visc_1.0e-17_order_8_hypovisc_0.005_order_-2_kf_7.0_F_1.0e-5_endtime_30000.0_beta_0.5_30040.mat'\n",
    "\n",
    "f = h5py.File(pathname + filename, \"r\")\n",
    "\n",
    "x = np.linspace(-f['Lx'][0]/2, f['Lx'][0]/2, f['nx'][0])\n",
    "y = np.linspace(-f['Ly'][0]/2, f['Ly'][0]/2, f['ny'][0])"
   ]
  },
  {
   "cell_type": "code",
   "execution_count": 3,
   "id": "7da90c7c",
   "metadata": {},
   "outputs": [
    {
     "name": "stdout",
     "output_type": "stream",
     "text": [
      "CPU times: user 5.39 s, sys: 2.58 s, total: 7.97 s\n",
      "Wall time: 7.97 s\n"
     ]
    }
   ],
   "source": [
    "%%time\n",
    "\n",
    "sfs = fluidsf.generate_structure_functions_2d(f['u'], f['v'], x, y, \n",
    "                                              sf_type=[\"ASF_V\"])"
   ]
  },
  {
   "cell_type": "code",
   "execution_count": 4,
   "id": "37d195ab",
   "metadata": {},
   "outputs": [
    {
     "name": "stdout",
     "output_type": "stream",
     "text": [
      "CPU times: user 22.4 s, sys: 9.08 s, total: 31.5 s\n",
      "Wall time: 31.5 s\n"
     ]
    }
   ],
   "source": [
    "%%time\n",
    "\n",
    "sfs = fluidsf.generate_structure_functions_2d(f['u'], f['v'], x, y, \n",
    "                                              scalar=f['b'], \n",
    "                                              sf_type=[\"ASF_V\",\"ASF_S\",\"LLL\",\"TTT\",\"LTT\",\"LSS\"])"
   ]
  },
  {
   "cell_type": "code",
   "execution_count": null,
   "id": "ace40352",
   "metadata": {},
   "outputs": [
    {
     "name": "stderr",
     "output_type": "stream",
     "text": [
      "/Users/brodiepearson/opt/miniconda3/lib/python3.8/site-packages/fluidsf/calculate_sf_maps_2d.py:115: RuntimeWarning: invalid value encountered in scalar divide\n",
      "  cosine_angle = x_separation / np.sqrt(x_separation**2 + y_separation**2)\n",
      "/Users/brodiepearson/opt/miniconda3/lib/python3.8/site-packages/fluidsf/calculate_sf_maps_2d.py:116: RuntimeWarning: invalid value encountered in scalar divide\n",
      "  sine_angle = y_separation / np.sqrt(x_separation**2 + y_separation**2)\n",
      "/Users/brodiepearson/opt/miniconda3/lib/python3.8/site-packages/fluidsf/calculate_sf_maps_2d.py:119: RuntimeWarning: Mean of empty slice\n",
      "  SF_dict[\"SF_LL_xy\"] = np.nanmean(\n",
      "/Users/brodiepearson/opt/miniconda3/lib/python3.8/site-packages/fluidsf/calculate_sf_maps_2d.py:127: RuntimeWarning: Mean of empty slice\n",
      "  SF_dict[\"SF_TT_xy\"] = np.nanmean(\n",
      "/Users/brodiepearson/opt/miniconda3/lib/python3.8/site-packages/fluidsf/calculate_sf_maps_2d.py:138: RuntimeWarning: Mean of empty slice\n",
      "  SF_dict[\"SF_LLL_xy\"] = np.nanmean(\n",
      "/Users/brodiepearson/opt/miniconda3/lib/python3.8/site-packages/fluidsf/calculate_sf_maps_2d.py:146: RuntimeWarning: Mean of empty slice\n",
      "  SF_dict[\"SF_LTT_xy\"] = np.nanmean(\n",
      "/Users/brodiepearson/opt/miniconda3/lib/python3.8/site-packages/fluidsf/calculate_sf_maps_2d.py:159: RuntimeWarning: Mean of empty slice\n",
      "  SF_dict[\"SF_LSS_xy\"] = np.nanmean(\n"
     ]
    }
   ],
   "source": [
    "%%time\n",
    "\n",
    "sf_maps = fluidsf.generate_sf_maps_2d(np.array(f['u']), np.array(f['v']), x, y, \n",
    "                                              scalar=np.array(f['b']), \n",
    "                                              sf_type=[\"ASF_V\",\"ASF_S\",\"LLL\",\"TTT\",\"LTT\",\"LSS\"])"
   ]
  },
  {
   "cell_type": "code",
   "execution_count": null,
   "id": "c379265d",
   "metadata": {},
   "outputs": [],
   "source": [
    "np.array(f['u'])"
   ]
  },
  {
   "cell_type": "code",
   "execution_count": null,
   "id": "913f99dc",
   "metadata": {},
   "outputs": [],
   "source": [
    "import pickle\n",
    "\n",
    "with open('2D_sf_maps.pkl', 'wb') as fp:\n",
    "    pickle.dump(sfs, fp)\n",
    "    \n",
    "# Read dictionary pkl file\n",
    "with open('2D_sf_maps.pkl', 'rb') as fp:\n",
    "    sfs_new = pickle.load(fp)\n",
    "    \n",
    "sfs, sfs_new"
   ]
  },
  {
   "cell_type": "code",
   "execution_count": null,
   "id": "15830720",
   "metadata": {},
   "outputs": [],
   "source": [
    "import matplotlib.pyplot as plt\n",
    "\n",
    "plt.semilogx(sfs['x-diffs'], sfs['SF_advection_velocity_x'])\n",
    "plt.semilogx(sfs['y-diffs'], sfs['SF_advection_velocity_y'])"
   ]
  },
  {
   "cell_type": "code",
   "execution_count": null,
   "id": "d8236f49",
   "metadata": {},
   "outputs": [],
   "source": [
    "sfs['x-diffs'].max()"
   ]
  },
  {
   "cell_type": "code",
   "execution_count": null,
   "id": "204e1c23",
   "metadata": {},
   "outputs": [],
   "source": [
    "pathname = './processed_data/'\n",
    "\n",
    "filename = 'Structure_Functions_2D_StrongBeta_Zonal.mat'\n",
    "sfs_matlab_zonal = h5py.File(pathname + filename, \"r\")\n",
    "\n",
    "filename = 'Structure_Functions_2D_StrongBeta_Meridional.mat'\n",
    "sfs_matlab_meridional = h5py.File(pathname + filename, \"r\")\n",
    "\n",
    "separation_distances = np.transpose(np.array(sfs_matlab_zonal['R']))\n",
    "\n",
    "Advective_SF_Zonal_snapshots = sfs_matlab_zonal['uuadv_snapshots'][:,:]+ sfs_matlab_zonal['vvadv_snapshots'][:,:]\n",
    "Advective_SF_Meridional_snapshots = sfs_matlab_meridional['uuadv_snapshots'][:,:]+ sfs_matlab_meridional['vvadv_snapshots'][:,:]"
   ]
  },
  {
   "cell_type": "code",
   "execution_count": null,
   "id": "126a7243",
   "metadata": {},
   "outputs": [],
   "source": [
    "import matplotlib.pyplot as plt\n",
    "\n",
    "time_index = -15 # Why 15th time snapshot? No idea! Probably something funky with Matlab's datenum time conversions\n",
    "\n",
    "plt.semilogx(sfs['x-diffs'], sfs['SF_advection_velocity_x'], 'k')\n",
    "plt.semilogx(sfs['y-diffs'], sfs['SF_advection_velocity_y'], 'r')\n",
    "plt.semilogx(separation_distances, Advective_SF_Zonal_snapshots[time_index,:], 'k--')\n",
    "plt.semilogx(separation_distances, Advective_SF_Meridional_snapshots[time_index,:], 'r--')\n",
    "\n",
    "\n",
    "plt.semilogx(separation_distances, np.transpose(sfs_matlab_zonal['uuadv'][:]+ sfs_matlab_zonal['vvadv'][:]), 'k:')\n",
    "plt.semilogx(separation_distances, np.transpose(sfs_matlab_meridional['uuadv'][:]+ sfs_matlab_meridional['vvadv'][:]), 'r:')"
   ]
  },
  {
   "cell_type": "code",
   "execution_count": null,
   "id": "e938e688",
   "metadata": {},
   "outputs": [],
   "source": [
    "\n",
    "plt.plot(sfs['x-diffs'], sfs['SF_advection_velocity_x'], 'k')\n",
    "plt.plot(sfs['y-diffs'], sfs['SF_advection_velocity_y'], 'r')\n",
    "plt.semilogx(separation_distances, Advective_SF_Zonal_snapshots[time_index,:], 'k--')\n",
    "plt.semilogx(separation_distances, Advective_SF_Meridional_snapshots[time_index,:], 'r--')\n",
    "\n",
    "plt.plot(separation_distances, np.transpose(sfs_matlab_zonal['uuadv'][:]+ sfs_matlab_zonal['vvadv'][:]), 'k:')\n",
    "plt.plot(separation_distances, np.transpose(sfs_matlab_meridional['uuadv'][:]+ sfs_matlab_meridional['vvadv'][:]), 'r:')"
   ]
  },
  {
   "cell_type": "code",
   "execution_count": null,
   "id": "3f78f22f",
   "metadata": {},
   "outputs": [],
   "source": [
    "\n",
    "plt.semilogx(separation_distances, np.transpose(sfs_matlab_zonal['uuadv'][:]+ sfs_matlab_zonal['vvadv'][:]), 'k:')\n",
    "plt.semilogx(separation_distances, np.transpose(sfs_matlab_meridional['uuadv'][:]+ sfs_matlab_meridional['vvadv'][:]), 'r:')"
   ]
  },
  {
   "cell_type": "code",
   "execution_count": null,
   "id": "7598ebe9",
   "metadata": {},
   "outputs": [],
   "source": []
  }
 ],
 "metadata": {
  "kernelspec": {
   "display_name": "Python 3",
   "language": "python",
   "name": "python3"
  },
  "language_info": {
   "codemirror_mode": {
    "name": "ipython",
    "version": 3
   },
   "file_extension": ".py",
   "mimetype": "text/x-python",
   "name": "python",
   "nbconvert_exporter": "python",
   "pygments_lexer": "ipython3",
   "version": "3.8.5"
  }
 },
 "nbformat": 4,
 "nbformat_minor": 5
}
